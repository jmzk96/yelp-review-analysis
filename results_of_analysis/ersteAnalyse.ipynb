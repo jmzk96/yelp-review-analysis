{
 "cells": [
  {
   "cell_type": "code",
   "execution_count": 1,
   "metadata": {},
   "outputs": [
    {
     "name": "stdout",
     "output_type": "stream",
     "text": [
      "Requirement already satisfied: psycopg2-binary in /Users/nhatlepham/opt/anaconda3/lib/python3.8/site-packages (2.8.6)\n",
      "Note: you may need to restart the kernel to use updated packages.\n"
     ]
    }
   ],
   "source": [
    "pip install psycopg2-binary"
   ]
  },
  {
   "cell_type": "markdown",
   "metadata": {},
   "source": [
    "<font size=\"5\">HOURS-KATEGORIEN-STARS</font>"
   ]
  },
  {
   "cell_type": "code",
   "execution_count": 1,
   "metadata": {},
   "outputs": [],
   "source": [
    "import psycopg2\n",
    "import pandas as pd\n",
    "from pandas import DataFrame\n",
    "import matplotlib.pyplot as plt\n",
    "import seaborn as sns\n",
    "from datetime import datetime\n",
    "import numpy as np\n",
    "from statistics import mean \n"
   ]
  },
  {
   "cell_type": "code",
   "execution_count": 18,
   "metadata": {},
   "outputs": [],
   "source": [
    "ls_head = 20  # Überschrift\n",
    "ls_axis = 18  # x/y-Beschriftung\n",
    "ls_font = 16  # Schrif (zB .text)\n",
    "ls_label = 16  # Werte x/y-Achse\n",
    "ls_legend = 16  # Schriftgröße der Legende\n",
    "figsize = (21, 7)\n",
    "alphalegend = 0.9\n",
    "s_dpi = 300\n",
    "\n",
    "# Übergabe in ein Dict und anschließend aktualisieren der Parameter\n",
    "rc = {'figure.figsize': figsize,\n",
    "      'legend.framealpha': alphalegend,\n",
    "      'axes.labelsize': ls_axis, 'font.size': ls_font, 'legend.fontsize': ls_legend,\n",
    "      'axes.titlesize': ls_head, 'xtick.labelsize': ls_label, 'ytick.labelsize': ls_label,\n",
    "      'grid.color': 'k', 'grid.linestyle': '--',\n",
    "      \"savefig.dpi\": s_dpi, \"savefig.format\": 'svg'}\n",
    "plt.rcParams.update(**rc)"
   ]
  },
  {
   "cell_type": "code",
   "execution_count": 3,
   "metadata": {},
   "outputs": [],
   "source": [
    "\n",
    "host = \"141.100.70.97\"\n",
    "user = \"sync3\"\n",
    "dbname = \"sync3\"\n",
    "password = \"sync3\"\n",
    "\n",
    "connector = psycopg2.connect(host=host,user=user,dbname=dbname,password=password)\n",
    "\n",
    "SQL_hours   = \"\"\" SELECT stars, h.open, h.close, h.dow, cats.cat\n",
    "                  FROM hours h\n",
    "                  INNER JOIN business b\n",
    "                    ON h.bid = b.bid\n",
    "                  INNER JOIN category cat\n",
    "                    ON b.bid = cat.bid\n",
    "                  INNER JOIN categories cats\n",
    "                    ON cat.cid = cats.cid\n",
    "               \"\"\"\n",
    "#Nur Montag\n",
    "#Nur Restaurant\n",
    "#AND cats.cat in ('Restaurants')\n",
    "#WHERE h.dow = 0\n"
   ]
  },
  {
   "cell_type": "code",
   "execution_count": 4,
   "metadata": {},
   "outputs": [],
   "source": [
    "df_h = pd.read_sql_query(SQL_hours, connector)"
   ]
  },
  {
   "cell_type": "code",
   "execution_count": 5,
   "metadata": {},
   "outputs": [
    {
     "name": "stdout",
     "output_type": "stream",
     "text": [
      "ANZAHL FEHLENDER WERTE IN df_h:\t 0\n"
     ]
    }
   ],
   "source": [
    "# Clean DF\n",
    "df_h = df_h.loc[:,~df_h.columns.duplicated()]\n",
    "print(f\"ANZAHL FEHLENDER WERTE IN df_h:\\t {str(df_h.isnull().sum().sum())}\")\n",
    "df_h = df_h.dropna().reset_index(drop=True)\n"
   ]
  },
  {
   "cell_type": "code",
   "execution_count": 6,
   "metadata": {},
   "outputs": [
    {
     "name": "stdout",
     "output_type": "stream",
     "text": [
      "DATAFRAME df_h:\n",
      "          stars      open     close  dow                   cat\n",
      "0          2.5  18:00:00  22:00:00    4  Arts & Entertainment\n",
      "1          2.5  18:00:00  22:00:00    4          Local Flavor\n",
      "2          2.5  18:00:00  22:00:00    4             Festivals\n",
      "3          2.5  18:00:00  22:00:00    5  Arts & Entertainment\n",
      "4          2.5  18:00:00  22:00:00    5          Local Flavor\n",
      "...        ...       ...       ...  ...                   ...\n",
      "4642657    2.0  10:00:00  22:00:00    4            Sandwiches\n",
      "4642658    2.0  10:00:00  22:00:00    5           Restaurants\n",
      "4642659    2.0  10:00:00  22:00:00    5            Sandwiches\n",
      "4642660    2.0  10:00:00  22:00:00    6           Restaurants\n",
      "4642661    2.0  10:00:00  22:00:00    6            Sandwiches\n",
      "\n",
      "[4642662 rows x 5 columns]\n"
     ]
    }
   ],
   "source": [
    "print(f\"DATAFRAME df_h:\\n {str(df_h)}\")"
   ]
  },
  {
   "cell_type": "code",
   "execution_count": 7,
   "metadata": {},
   "outputs": [
    {
     "data": {
      "text/plain": [
       "stars    float64\n",
       "open      object\n",
       "close     object\n",
       "dow        int64\n",
       "cat       object\n",
       "dtype: object"
      ]
     },
     "execution_count": 7,
     "metadata": {},
     "output_type": "execute_result"
    }
   ],
   "source": [
    "df_h.dtypes"
   ]
  },
  {
   "cell_type": "code",
   "execution_count": 8,
   "metadata": {},
   "outputs": [],
   "source": [
    "#DEFINE SUBGROUP\n",
    "dow = 0\n",
    "cat = 'Restaurants'\n",
    "df_hours = df_h[(df_h.dow == dow ) & (df_h.cat == cat )]\n"
   ]
  },
  {
   "cell_type": "code",
   "execution_count": 9,
   "metadata": {},
   "outputs": [
    {
     "data": {
      "text/html": [
       "<div>\n",
       "<style scoped>\n",
       "    .dataframe tbody tr th:only-of-type {\n",
       "        vertical-align: middle;\n",
       "    }\n",
       "\n",
       "    .dataframe tbody tr th {\n",
       "        vertical-align: top;\n",
       "    }\n",
       "\n",
       "    .dataframe thead th {\n",
       "        text-align: right;\n",
       "    }\n",
       "</style>\n",
       "<table border=\"1\" class=\"dataframe\">\n",
       "  <thead>\n",
       "    <tr style=\"text-align: right;\">\n",
       "      <th></th>\n",
       "      <th>stars</th>\n",
       "      <th>open</th>\n",
       "      <th>close</th>\n",
       "      <th>dow</th>\n",
       "      <th>cat</th>\n",
       "    </tr>\n",
       "  </thead>\n",
       "  <tbody>\n",
       "    <tr>\n",
       "      <th>39</th>\n",
       "      <td>4.0</td>\n",
       "      <td>11:00:00</td>\n",
       "      <td>22:00:00</td>\n",
       "      <td>0</td>\n",
       "      <td>Restaurants</td>\n",
       "    </tr>\n",
       "    <tr>\n",
       "      <th>53</th>\n",
       "      <td>3.5</td>\n",
       "      <td>11:00:00</td>\n",
       "      <td>00:00:00</td>\n",
       "      <td>0</td>\n",
       "      <td>Restaurants</td>\n",
       "    </tr>\n",
       "    <tr>\n",
       "      <th>265</th>\n",
       "      <td>3.5</td>\n",
       "      <td>17:00:00</td>\n",
       "      <td>22:00:00</td>\n",
       "      <td>0</td>\n",
       "      <td>Restaurants</td>\n",
       "    </tr>\n",
       "    <tr>\n",
       "      <th>358</th>\n",
       "      <td>3.0</td>\n",
       "      <td>11:30:00</td>\n",
       "      <td>02:00:00</td>\n",
       "      <td>0</td>\n",
       "      <td>Restaurants</td>\n",
       "    </tr>\n",
       "    <tr>\n",
       "      <th>603</th>\n",
       "      <td>3.5</td>\n",
       "      <td>00:00:00</td>\n",
       "      <td>00:00:00</td>\n",
       "      <td>0</td>\n",
       "      <td>Restaurants</td>\n",
       "    </tr>\n",
       "    <tr>\n",
       "      <th>...</th>\n",
       "      <td>...</td>\n",
       "      <td>...</td>\n",
       "      <td>...</td>\n",
       "      <td>...</td>\n",
       "      <td>...</td>\n",
       "    </tr>\n",
       "    <tr>\n",
       "      <th>4642237</th>\n",
       "      <td>4.5</td>\n",
       "      <td>10:30:00</td>\n",
       "      <td>20:30:00</td>\n",
       "      <td>0</td>\n",
       "      <td>Restaurants</td>\n",
       "    </tr>\n",
       "    <tr>\n",
       "      <th>4642550</th>\n",
       "      <td>4.5</td>\n",
       "      <td>08:00:00</td>\n",
       "      <td>14:30:00</td>\n",
       "      <td>0</td>\n",
       "      <td>Restaurants</td>\n",
       "    </tr>\n",
       "    <tr>\n",
       "      <th>4642595</th>\n",
       "      <td>2.5</td>\n",
       "      <td>10:45:00</td>\n",
       "      <td>23:00:00</td>\n",
       "      <td>0</td>\n",
       "      <td>Restaurants</td>\n",
       "    </tr>\n",
       "    <tr>\n",
       "      <th>4642616</th>\n",
       "      <td>4.0</td>\n",
       "      <td>17:00:00</td>\n",
       "      <td>23:00:00</td>\n",
       "      <td>0</td>\n",
       "      <td>Restaurants</td>\n",
       "    </tr>\n",
       "    <tr>\n",
       "      <th>4642648</th>\n",
       "      <td>2.0</td>\n",
       "      <td>10:00:00</td>\n",
       "      <td>22:00:00</td>\n",
       "      <td>0</td>\n",
       "      <td>Restaurants</td>\n",
       "    </tr>\n",
       "  </tbody>\n",
       "</table>\n",
       "<p>45831 rows × 5 columns</p>\n",
       "</div>"
      ],
      "text/plain": [
       "         stars      open     close  dow          cat\n",
       "39         4.0  11:00:00  22:00:00    0  Restaurants\n",
       "53         3.5  11:00:00  00:00:00    0  Restaurants\n",
       "265        3.5  17:00:00  22:00:00    0  Restaurants\n",
       "358        3.0  11:30:00  02:00:00    0  Restaurants\n",
       "603        3.5  00:00:00  00:00:00    0  Restaurants\n",
       "...        ...       ...       ...  ...          ...\n",
       "4642237    4.5  10:30:00  20:30:00    0  Restaurants\n",
       "4642550    4.5  08:00:00  14:30:00    0  Restaurants\n",
       "4642595    2.5  10:45:00  23:00:00    0  Restaurants\n",
       "4642616    4.0  17:00:00  23:00:00    0  Restaurants\n",
       "4642648    2.0  10:00:00  22:00:00    0  Restaurants\n",
       "\n",
       "[45831 rows x 5 columns]"
      ]
     },
     "execution_count": 9,
     "metadata": {},
     "output_type": "execute_result"
    }
   ],
   "source": [
    "df_hours"
   ]
  },
  {
   "cell_type": "code",
   "execution_count": 10,
   "metadata": {},
   "outputs": [
    {
     "name": "stderr",
     "output_type": "stream",
     "text": [
      "<ipython-input-10-044ea6a4ec99>:1: SettingWithCopyWarning: \n",
      "A value is trying to be set on a copy of a slice from a DataFrame.\n",
      "Try using .loc[row_indexer,col_indexer] = value instead\n",
      "\n",
      "See the caveats in the documentation: https://pandas.pydata.org/pandas-docs/stable/user_guide/indexing.html#returning-a-view-versus-a-copy\n",
      "  df_hours['open_str'] = df_hours['open'].astype(str)\n",
      "<ipython-input-10-044ea6a4ec99>:2: SettingWithCopyWarning: \n",
      "A value is trying to be set on a copy of a slice from a DataFrame.\n",
      "Try using .loc[row_indexer,col_indexer] = value instead\n",
      "\n",
      "See the caveats in the documentation: https://pandas.pydata.org/pandas-docs/stable/user_guide/indexing.html#returning-a-view-versus-a-copy\n",
      "  df_hours['close_str'] = df_hours['close'].astype(str)\n",
      "<ipython-input-10-044ea6a4ec99>:5: SettingWithCopyWarning: \n",
      "A value is trying to be set on a copy of a slice from a DataFrame.\n",
      "Try using .loc[row_indexer,col_indexer] = value instead\n",
      "\n",
      "See the caveats in the documentation: https://pandas.pydata.org/pandas-docs/stable/user_guide/indexing.html#returning-a-view-versus-a-copy\n",
      "  df_hours['close_str'] = np.where(df_hours['open']> df_hours['close'] , '2021-01-02 '+df_hours['close_str'] , '2021-01-01 '+df_hours['close_str'])\n",
      "<ipython-input-10-044ea6a4ec99>:7: SettingWithCopyWarning: \n",
      "A value is trying to be set on a copy of a slice from a DataFrame.\n",
      "Try using .loc[row_indexer,col_indexer] = value instead\n",
      "\n",
      "See the caveats in the documentation: https://pandas.pydata.org/pandas-docs/stable/user_guide/indexing.html#returning-a-view-versus-a-copy\n",
      "  df_hours['open_str'] = a + df_hours['open_str']\n",
      "<ipython-input-10-044ea6a4ec99>:10: SettingWithCopyWarning: \n",
      "A value is trying to be set on a copy of a slice from a DataFrame.\n",
      "Try using .loc[row_indexer,col_indexer] = value instead\n",
      "\n",
      "See the caveats in the documentation: https://pandas.pydata.org/pandas-docs/stable/user_guide/indexing.html#returning-a-view-versus-a-copy\n",
      "  df_hours['open_stp'] = df_hours['open_str'].apply(lambda x:  pd.Timestamp(x))\n",
      "<ipython-input-10-044ea6a4ec99>:11: SettingWithCopyWarning: \n",
      "A value is trying to be set on a copy of a slice from a DataFrame.\n",
      "Try using .loc[row_indexer,col_indexer] = value instead\n",
      "\n",
      "See the caveats in the documentation: https://pandas.pydata.org/pandas-docs/stable/user_guide/indexing.html#returning-a-view-versus-a-copy\n",
      "  df_hours['close_stp'] = df_hours['close_str'].apply(lambda x:  pd.Timestamp(x))\n",
      "<ipython-input-10-044ea6a4ec99>:12: SettingWithCopyWarning: \n",
      "A value is trying to be set on a copy of a slice from a DataFrame.\n",
      "Try using .loc[row_indexer,col_indexer] = value instead\n",
      "\n",
      "See the caveats in the documentation: https://pandas.pydata.org/pandas-docs/stable/user_guide/indexing.html#returning-a-view-versus-a-copy\n",
      "  df_hours['diff'] = df_hours['close_stp'] - df_hours['open_stp']\n",
      "<ipython-input-10-044ea6a4ec99>:13: SettingWithCopyWarning: \n",
      "A value is trying to be set on a copy of a slice from a DataFrame.\n",
      "Try using .loc[row_indexer,col_indexer] = value instead\n",
      "\n",
      "See the caveats in the documentation: https://pandas.pydata.org/pandas-docs/stable/user_guide/indexing.html#returning-a-view-versus-a-copy\n",
      "  df_hours['open_len'] = df_hours['diff'].apply(lambda x:(x.total_seconds())//3600)\n"
     ]
    }
   ],
   "source": [
    "\n",
    "\n",
    "df_hours['open_str'] = df_hours['open'].astype(str)\n",
    "df_hours['close_str'] = df_hours['close'].astype(str)\n",
    "\n",
    "\n",
    "df_hours['close_str'] = np.where(df_hours['open']> df_hours['close'] , '2021-01-02 '+df_hours['close_str'] , '2021-01-01 '+df_hours['close_str'])\n",
    "a = '2021-01-01 '\n",
    "df_hours['open_str'] = a + df_hours['open_str'] \n",
    "\n",
    "\n",
    "df_hours['open_stp'] = df_hours['open_str'].apply(lambda x:  pd.Timestamp(x))\n",
    "df_hours['close_stp'] = df_hours['close_str'].apply(lambda x:  pd.Timestamp(x))\n",
    "df_hours['diff'] = df_hours['close_stp'] - df_hours['open_stp']\n",
    "df_hours['open_len'] = df_hours['diff'].apply(lambda x:(x.total_seconds())//3600)\n",
    "\n",
    "\n"
   ]
  },
  {
   "cell_type": "code",
   "execution_count": 11,
   "metadata": {},
   "outputs": [
    {
     "data": {
      "text/html": [
       "<div>\n",
       "<style scoped>\n",
       "    .dataframe tbody tr th:only-of-type {\n",
       "        vertical-align: middle;\n",
       "    }\n",
       "\n",
       "    .dataframe tbody tr th {\n",
       "        vertical-align: top;\n",
       "    }\n",
       "\n",
       "    .dataframe thead th {\n",
       "        text-align: right;\n",
       "    }\n",
       "</style>\n",
       "<table border=\"1\" class=\"dataframe\">\n",
       "  <thead>\n",
       "    <tr style=\"text-align: right;\">\n",
       "      <th></th>\n",
       "      <th>stars</th>\n",
       "      <th>open</th>\n",
       "      <th>close</th>\n",
       "      <th>dow</th>\n",
       "      <th>cat</th>\n",
       "      <th>open_str</th>\n",
       "      <th>close_str</th>\n",
       "      <th>open_stp</th>\n",
       "      <th>close_stp</th>\n",
       "      <th>diff</th>\n",
       "      <th>open_len</th>\n",
       "    </tr>\n",
       "  </thead>\n",
       "  <tbody>\n",
       "    <tr>\n",
       "      <th>39</th>\n",
       "      <td>4.0</td>\n",
       "      <td>11:00:00</td>\n",
       "      <td>22:00:00</td>\n",
       "      <td>0</td>\n",
       "      <td>Restaurants</td>\n",
       "      <td>2021-01-01 11:00:00</td>\n",
       "      <td>2021-01-01 22:00:00</td>\n",
       "      <td>2021-01-01 11:00:00</td>\n",
       "      <td>2021-01-01 22:00:00</td>\n",
       "      <td>0 days 11:00:00</td>\n",
       "      <td>11.0</td>\n",
       "    </tr>\n",
       "    <tr>\n",
       "      <th>53</th>\n",
       "      <td>3.5</td>\n",
       "      <td>11:00:00</td>\n",
       "      <td>00:00:00</td>\n",
       "      <td>0</td>\n",
       "      <td>Restaurants</td>\n",
       "      <td>2021-01-01 11:00:00</td>\n",
       "      <td>2021-01-02 00:00:00</td>\n",
       "      <td>2021-01-01 11:00:00</td>\n",
       "      <td>2021-01-02 00:00:00</td>\n",
       "      <td>0 days 13:00:00</td>\n",
       "      <td>13.0</td>\n",
       "    </tr>\n",
       "    <tr>\n",
       "      <th>265</th>\n",
       "      <td>3.5</td>\n",
       "      <td>17:00:00</td>\n",
       "      <td>22:00:00</td>\n",
       "      <td>0</td>\n",
       "      <td>Restaurants</td>\n",
       "      <td>2021-01-01 17:00:00</td>\n",
       "      <td>2021-01-01 22:00:00</td>\n",
       "      <td>2021-01-01 17:00:00</td>\n",
       "      <td>2021-01-01 22:00:00</td>\n",
       "      <td>0 days 05:00:00</td>\n",
       "      <td>5.0</td>\n",
       "    </tr>\n",
       "    <tr>\n",
       "      <th>358</th>\n",
       "      <td>3.0</td>\n",
       "      <td>11:30:00</td>\n",
       "      <td>02:00:00</td>\n",
       "      <td>0</td>\n",
       "      <td>Restaurants</td>\n",
       "      <td>2021-01-01 11:30:00</td>\n",
       "      <td>2021-01-02 02:00:00</td>\n",
       "      <td>2021-01-01 11:30:00</td>\n",
       "      <td>2021-01-02 02:00:00</td>\n",
       "      <td>0 days 14:30:00</td>\n",
       "      <td>14.0</td>\n",
       "    </tr>\n",
       "    <tr>\n",
       "      <th>603</th>\n",
       "      <td>3.5</td>\n",
       "      <td>00:00:00</td>\n",
       "      <td>00:00:00</td>\n",
       "      <td>0</td>\n",
       "      <td>Restaurants</td>\n",
       "      <td>2021-01-01 00:00:00</td>\n",
       "      <td>2021-01-01 00:00:00</td>\n",
       "      <td>2021-01-01 00:00:00</td>\n",
       "      <td>2021-01-01 00:00:00</td>\n",
       "      <td>0 days 00:00:00</td>\n",
       "      <td>0.0</td>\n",
       "    </tr>\n",
       "    <tr>\n",
       "      <th>...</th>\n",
       "      <td>...</td>\n",
       "      <td>...</td>\n",
       "      <td>...</td>\n",
       "      <td>...</td>\n",
       "      <td>...</td>\n",
       "      <td>...</td>\n",
       "      <td>...</td>\n",
       "      <td>...</td>\n",
       "      <td>...</td>\n",
       "      <td>...</td>\n",
       "      <td>...</td>\n",
       "    </tr>\n",
       "    <tr>\n",
       "      <th>4642237</th>\n",
       "      <td>4.5</td>\n",
       "      <td>10:30:00</td>\n",
       "      <td>20:30:00</td>\n",
       "      <td>0</td>\n",
       "      <td>Restaurants</td>\n",
       "      <td>2021-01-01 10:30:00</td>\n",
       "      <td>2021-01-01 20:30:00</td>\n",
       "      <td>2021-01-01 10:30:00</td>\n",
       "      <td>2021-01-01 20:30:00</td>\n",
       "      <td>0 days 10:00:00</td>\n",
       "      <td>10.0</td>\n",
       "    </tr>\n",
       "    <tr>\n",
       "      <th>4642550</th>\n",
       "      <td>4.5</td>\n",
       "      <td>08:00:00</td>\n",
       "      <td>14:30:00</td>\n",
       "      <td>0</td>\n",
       "      <td>Restaurants</td>\n",
       "      <td>2021-01-01 08:00:00</td>\n",
       "      <td>2021-01-01 14:30:00</td>\n",
       "      <td>2021-01-01 08:00:00</td>\n",
       "      <td>2021-01-01 14:30:00</td>\n",
       "      <td>0 days 06:30:00</td>\n",
       "      <td>6.0</td>\n",
       "    </tr>\n",
       "    <tr>\n",
       "      <th>4642595</th>\n",
       "      <td>2.5</td>\n",
       "      <td>10:45:00</td>\n",
       "      <td>23:00:00</td>\n",
       "      <td>0</td>\n",
       "      <td>Restaurants</td>\n",
       "      <td>2021-01-01 10:45:00</td>\n",
       "      <td>2021-01-01 23:00:00</td>\n",
       "      <td>2021-01-01 10:45:00</td>\n",
       "      <td>2021-01-01 23:00:00</td>\n",
       "      <td>0 days 12:15:00</td>\n",
       "      <td>12.0</td>\n",
       "    </tr>\n",
       "    <tr>\n",
       "      <th>4642616</th>\n",
       "      <td>4.0</td>\n",
       "      <td>17:00:00</td>\n",
       "      <td>23:00:00</td>\n",
       "      <td>0</td>\n",
       "      <td>Restaurants</td>\n",
       "      <td>2021-01-01 17:00:00</td>\n",
       "      <td>2021-01-01 23:00:00</td>\n",
       "      <td>2021-01-01 17:00:00</td>\n",
       "      <td>2021-01-01 23:00:00</td>\n",
       "      <td>0 days 06:00:00</td>\n",
       "      <td>6.0</td>\n",
       "    </tr>\n",
       "    <tr>\n",
       "      <th>4642648</th>\n",
       "      <td>2.0</td>\n",
       "      <td>10:00:00</td>\n",
       "      <td>22:00:00</td>\n",
       "      <td>0</td>\n",
       "      <td>Restaurants</td>\n",
       "      <td>2021-01-01 10:00:00</td>\n",
       "      <td>2021-01-01 22:00:00</td>\n",
       "      <td>2021-01-01 10:00:00</td>\n",
       "      <td>2021-01-01 22:00:00</td>\n",
       "      <td>0 days 12:00:00</td>\n",
       "      <td>12.0</td>\n",
       "    </tr>\n",
       "  </tbody>\n",
       "</table>\n",
       "<p>45831 rows × 11 columns</p>\n",
       "</div>"
      ],
      "text/plain": [
       "         stars      open     close  dow          cat             open_str  \\\n",
       "39         4.0  11:00:00  22:00:00    0  Restaurants  2021-01-01 11:00:00   \n",
       "53         3.5  11:00:00  00:00:00    0  Restaurants  2021-01-01 11:00:00   \n",
       "265        3.5  17:00:00  22:00:00    0  Restaurants  2021-01-01 17:00:00   \n",
       "358        3.0  11:30:00  02:00:00    0  Restaurants  2021-01-01 11:30:00   \n",
       "603        3.5  00:00:00  00:00:00    0  Restaurants  2021-01-01 00:00:00   \n",
       "...        ...       ...       ...  ...          ...                  ...   \n",
       "4642237    4.5  10:30:00  20:30:00    0  Restaurants  2021-01-01 10:30:00   \n",
       "4642550    4.5  08:00:00  14:30:00    0  Restaurants  2021-01-01 08:00:00   \n",
       "4642595    2.5  10:45:00  23:00:00    0  Restaurants  2021-01-01 10:45:00   \n",
       "4642616    4.0  17:00:00  23:00:00    0  Restaurants  2021-01-01 17:00:00   \n",
       "4642648    2.0  10:00:00  22:00:00    0  Restaurants  2021-01-01 10:00:00   \n",
       "\n",
       "                   close_str            open_stp           close_stp  \\\n",
       "39       2021-01-01 22:00:00 2021-01-01 11:00:00 2021-01-01 22:00:00   \n",
       "53       2021-01-02 00:00:00 2021-01-01 11:00:00 2021-01-02 00:00:00   \n",
       "265      2021-01-01 22:00:00 2021-01-01 17:00:00 2021-01-01 22:00:00   \n",
       "358      2021-01-02 02:00:00 2021-01-01 11:30:00 2021-01-02 02:00:00   \n",
       "603      2021-01-01 00:00:00 2021-01-01 00:00:00 2021-01-01 00:00:00   \n",
       "...                      ...                 ...                 ...   \n",
       "4642237  2021-01-01 20:30:00 2021-01-01 10:30:00 2021-01-01 20:30:00   \n",
       "4642550  2021-01-01 14:30:00 2021-01-01 08:00:00 2021-01-01 14:30:00   \n",
       "4642595  2021-01-01 23:00:00 2021-01-01 10:45:00 2021-01-01 23:00:00   \n",
       "4642616  2021-01-01 23:00:00 2021-01-01 17:00:00 2021-01-01 23:00:00   \n",
       "4642648  2021-01-01 22:00:00 2021-01-01 10:00:00 2021-01-01 22:00:00   \n",
       "\n",
       "                   diff  open_len  \n",
       "39      0 days 11:00:00      11.0  \n",
       "53      0 days 13:00:00      13.0  \n",
       "265     0 days 05:00:00       5.0  \n",
       "358     0 days 14:30:00      14.0  \n",
       "603     0 days 00:00:00       0.0  \n",
       "...                 ...       ...  \n",
       "4642237 0 days 10:00:00      10.0  \n",
       "4642550 0 days 06:30:00       6.0  \n",
       "4642595 0 days 12:15:00      12.0  \n",
       "4642616 0 days 06:00:00       6.0  \n",
       "4642648 0 days 12:00:00      12.0  \n",
       "\n",
       "[45831 rows x 11 columns]"
      ]
     },
     "execution_count": 11,
     "metadata": {},
     "output_type": "execute_result"
    }
   ],
   "source": [
    "df_hours"
   ]
  },
  {
   "cell_type": "code",
   "execution_count": 14,
   "metadata": {},
   "outputs": [
    {
     "data": {
      "text/html": [
       "<div>\n",
       "<style scoped>\n",
       "    .dataframe tbody tr th:only-of-type {\n",
       "        vertical-align: middle;\n",
       "    }\n",
       "\n",
       "    .dataframe tbody tr th {\n",
       "        vertical-align: top;\n",
       "    }\n",
       "\n",
       "    .dataframe thead th {\n",
       "        text-align: right;\n",
       "    }\n",
       "</style>\n",
       "<table border=\"1\" class=\"dataframe\">\n",
       "  <thead>\n",
       "    <tr style=\"text-align: right;\">\n",
       "      <th></th>\n",
       "      <th>open_len</th>\n",
       "      <th>avgstars</th>\n",
       "    </tr>\n",
       "  </thead>\n",
       "  <tbody>\n",
       "    <tr>\n",
       "      <th>0</th>\n",
       "      <td>0.0</td>\n",
       "      <td>3.548586</td>\n",
       "    </tr>\n",
       "    <tr>\n",
       "      <th>1</th>\n",
       "      <td>1.0</td>\n",
       "      <td>3.391304</td>\n",
       "    </tr>\n",
       "    <tr>\n",
       "      <th>2</th>\n",
       "      <td>2.0</td>\n",
       "      <td>3.719697</td>\n",
       "    </tr>\n",
       "    <tr>\n",
       "      <th>3</th>\n",
       "      <td>3.0</td>\n",
       "      <td>3.819820</td>\n",
       "    </tr>\n",
       "    <tr>\n",
       "      <th>4</th>\n",
       "      <td>4.0</td>\n",
       "      <td>3.744324</td>\n",
       "    </tr>\n",
       "    <tr>\n",
       "      <th>5</th>\n",
       "      <td>5.0</td>\n",
       "      <td>3.722039</td>\n",
       "    </tr>\n",
       "    <tr>\n",
       "      <th>6</th>\n",
       "      <td>6.0</td>\n",
       "      <td>3.757459</td>\n",
       "    </tr>\n",
       "    <tr>\n",
       "      <th>7</th>\n",
       "      <td>7.0</td>\n",
       "      <td>3.771947</td>\n",
       "    </tr>\n",
       "    <tr>\n",
       "      <th>8</th>\n",
       "      <td>8.0</td>\n",
       "      <td>3.787068</td>\n",
       "    </tr>\n",
       "    <tr>\n",
       "      <th>9</th>\n",
       "      <td>9.0</td>\n",
       "      <td>3.729175</td>\n",
       "    </tr>\n",
       "    <tr>\n",
       "      <th>10</th>\n",
       "      <td>10.0</td>\n",
       "      <td>3.587303</td>\n",
       "    </tr>\n",
       "    <tr>\n",
       "      <th>11</th>\n",
       "      <td>11.0</td>\n",
       "      <td>3.392299</td>\n",
       "    </tr>\n",
       "    <tr>\n",
       "      <th>12</th>\n",
       "      <td>12.0</td>\n",
       "      <td>3.358472</td>\n",
       "    </tr>\n",
       "    <tr>\n",
       "      <th>13</th>\n",
       "      <td>13.0</td>\n",
       "      <td>3.244223</td>\n",
       "    </tr>\n",
       "    <tr>\n",
       "      <th>14</th>\n",
       "      <td>14.0</td>\n",
       "      <td>3.195847</td>\n",
       "    </tr>\n",
       "    <tr>\n",
       "      <th>15</th>\n",
       "      <td>15.0</td>\n",
       "      <td>3.170103</td>\n",
       "    </tr>\n",
       "    <tr>\n",
       "      <th>16</th>\n",
       "      <td>16.0</td>\n",
       "      <td>3.100091</td>\n",
       "    </tr>\n",
       "    <tr>\n",
       "      <th>17</th>\n",
       "      <td>17.0</td>\n",
       "      <td>2.834945</td>\n",
       "    </tr>\n",
       "    <tr>\n",
       "      <th>18</th>\n",
       "      <td>18.0</td>\n",
       "      <td>2.690117</td>\n",
       "    </tr>\n",
       "    <tr>\n",
       "      <th>19</th>\n",
       "      <td>19.0</td>\n",
       "      <td>2.683442</td>\n",
       "    </tr>\n",
       "    <tr>\n",
       "      <th>20</th>\n",
       "      <td>20.0</td>\n",
       "      <td>2.839552</td>\n",
       "    </tr>\n",
       "    <tr>\n",
       "      <th>21</th>\n",
       "      <td>21.0</td>\n",
       "      <td>2.427083</td>\n",
       "    </tr>\n",
       "    <tr>\n",
       "      <th>22</th>\n",
       "      <td>22.0</td>\n",
       "      <td>3.045455</td>\n",
       "    </tr>\n",
       "    <tr>\n",
       "      <th>23</th>\n",
       "      <td>23.0</td>\n",
       "      <td>3.000000</td>\n",
       "    </tr>\n",
       "  </tbody>\n",
       "</table>\n",
       "</div>"
      ],
      "text/plain": [
       "    open_len  avgstars\n",
       "0        0.0  3.548586\n",
       "1        1.0  3.391304\n",
       "2        2.0  3.719697\n",
       "3        3.0  3.819820\n",
       "4        4.0  3.744324\n",
       "5        5.0  3.722039\n",
       "6        6.0  3.757459\n",
       "7        7.0  3.771947\n",
       "8        8.0  3.787068\n",
       "9        9.0  3.729175\n",
       "10      10.0  3.587303\n",
       "11      11.0  3.392299\n",
       "12      12.0  3.358472\n",
       "13      13.0  3.244223\n",
       "14      14.0  3.195847\n",
       "15      15.0  3.170103\n",
       "16      16.0  3.100091\n",
       "17      17.0  2.834945\n",
       "18      18.0  2.690117\n",
       "19      19.0  2.683442\n",
       "20      20.0  2.839552\n",
       "21      21.0  2.427083\n",
       "22      22.0  3.045455\n",
       "23      23.0  3.000000"
      ]
     },
     "execution_count": 14,
     "metadata": {},
     "output_type": "execute_result"
    }
   ],
   "source": [
    "open_len_avgstars = df_hours.groupby('open_len')['stars'].mean().reset_index(name='avgstars')\n",
    "open_len_avgstars"
   ]
  },
  {
   "cell_type": "code",
   "execution_count": 22,
   "metadata": {},
   "outputs": [
    {
     "data": {
      "image/png": "[encoded data removed]",
      "text/plain": [
       "<Figure size 1512x504 with 1 Axes>"
      ]
     },
     "metadata": {
      "needs_background": "light"
     },
     "output_type": "display_data"
    }
   ],
   "source": [
    "\n",
    "index = open_len_avgstars['open_len'].tolist()\n",
    "y = open_len_avgstars['avgstars'].tolist()\n",
    "s = pd.Series(y, index=index)\n",
    "\n",
    "s.plot(kind=\"bar\", rot=90)\n",
    "plt.axhline(y=mean(open_len_avgstars['avgstars']), xmin=0, xmax=1,color='red')\n",
    "plt.xlabel(\"numbers of hours open\")\n",
    "plt.ylabel(\"avgstars\")\n",
    "plt.title(f\"avgstars in Subgroup: {str(cat)} and Dow {str(dow)}\")\n",
    "plt.subplots_adjust(left=0.15, bottom=0.50, right=0.95, top=1,wspace=0.0, hspace=0.0)\n",
    "plt.grid()\n",
    "plt.savefig('picture_präsi/avgstars-open_len.svg',dpi=1200, bbox_inches='tight')\n",
    "plt.show()\n",
    "\n",
    "#durchschnittsbewertung nach open_len \n",
    "# nach cluster nach wochentag variable\n"
   ]
  },
  {
   "cell_type": "code",
   "execution_count": 23,
   "metadata": {},
   "outputs": [
    {
     "name": "stdout",
     "output_type": "stream",
     "text": [
      "    open_len  freq\n",
      "0        0.0  7780\n",
      "1        1.0    23\n",
      "2        2.0    66\n",
      "3        3.0   222\n",
      "4        4.0   925\n",
      "5        5.0  1520\n",
      "6        6.0  1039\n",
      "7        7.0  1048\n",
      "8        8.0  1794\n",
      "9        9.0  2653\n",
      "10      10.0  6403\n",
      "11      11.0  7739\n",
      "12      12.0  4462\n",
      "13      13.0  2813\n",
      "14      14.0  2119\n",
      "15      15.0  2231\n",
      "16      16.0  1104\n",
      "17      17.0   724\n",
      "18      18.0   597\n",
      "19      19.0   308\n",
      "20      20.0   134\n",
      "21      21.0    48\n",
      "22      22.0    22\n",
      "23      23.0    57\n"
     ]
    },
    {
     "data": {
      "image/png": "[encoded data removed]",
      "text/plain": [
       "<Figure size 1512x504 with 1 Axes>"
      ]
     },
     "metadata": {
      "needs_background": "light"
     },
     "output_type": "display_data"
    }
   ],
   "source": [
    "print(df_hours.groupby('open_len').size().reset_index(name='freq'))\n",
    "\n",
    "\n",
    "df_hours.groupby('open_len').size().sort_index().plot(kind='bar')\n",
    "plt.xlabel(\"numbers of hours open\")\n",
    "plt.ylabel(\"absolute frequency\")\n",
    "plt.title(f\"Absolute Frequency of open_len in Subgroup: {str(cat)} and Dow {str(dow)}\")\n",
    "\n",
    "plt.subplots_adjust(left=0.15, bottom=0.50, right=0.95, top=0.9,wspace=0.0, hspace=0.0)\n",
    "plt.grid()\n",
    "plt.yscale(\"log\")\n",
    "plt.savefig('picture_präsi/absfreq-open_len.svg',dpi=1200, bbox_inches='tight')\n",
    "plt.show()\n",
    "\n"
   ]
  },
  {
   "cell_type": "code",
   "execution_count": 15,
   "metadata": {},
   "outputs": [
    {
     "name": "stderr",
     "output_type": "stream",
     "text": [
      "<ipython-input-15-e9a8e093049c>:7: SettingWithCopyWarning: \n",
      "A value is trying to be set on a copy of a slice from a DataFrame.\n",
      "Try using .loc[row_indexer,col_indexer] = value instead\n",
      "\n",
      "See the caveats in the documentation: https://pandas.pydata.org/pandas-docs/stable/user_guide/indexing.html#returning-a-view-versus-a-copy\n",
      "  df_hours['open_str'] = df_hours['open'].astype(str)\n",
      "<ipython-input-15-e9a8e093049c>:8: SettingWithCopyWarning: \n",
      "A value is trying to be set on a copy of a slice from a DataFrame.\n",
      "Try using .loc[row_indexer,col_indexer] = value instead\n",
      "\n",
      "See the caveats in the documentation: https://pandas.pydata.org/pandas-docs/stable/user_guide/indexing.html#returning-a-view-versus-a-copy\n",
      "  df_hours['close_str'] = df_hours['close'].astype(str)\n",
      "<ipython-input-15-e9a8e093049c>:11: SettingWithCopyWarning: \n",
      "A value is trying to be set on a copy of a slice from a DataFrame.\n",
      "Try using .loc[row_indexer,col_indexer] = value instead\n",
      "\n",
      "See the caveats in the documentation: https://pandas.pydata.org/pandas-docs/stable/user_guide/indexing.html#returning-a-view-versus-a-copy\n",
      "  df_hours['close_str'] = np.where(df_hours['open']> df_hours['close'] , '2021-01-02 '+df_hours['close_str'] , '2021-01-01 '+df_hours['close_str'])\n",
      "<ipython-input-15-e9a8e093049c>:13: SettingWithCopyWarning: \n",
      "A value is trying to be set on a copy of a slice from a DataFrame.\n",
      "Try using .loc[row_indexer,col_indexer] = value instead\n",
      "\n",
      "See the caveats in the documentation: https://pandas.pydata.org/pandas-docs/stable/user_guide/indexing.html#returning-a-view-versus-a-copy\n",
      "  df_hours['open_str'] = a + df_hours['open_str']\n",
      "<ipython-input-15-e9a8e093049c>:16: SettingWithCopyWarning: \n",
      "A value is trying to be set on a copy of a slice from a DataFrame.\n",
      "Try using .loc[row_indexer,col_indexer] = value instead\n",
      "\n",
      "See the caveats in the documentation: https://pandas.pydata.org/pandas-docs/stable/user_guide/indexing.html#returning-a-view-versus-a-copy\n",
      "  df_hours['open_stp'] = df_hours['open_str'].apply(lambda x:  pd.Timestamp(x))\n",
      "<ipython-input-15-e9a8e093049c>:17: SettingWithCopyWarning: \n",
      "A value is trying to be set on a copy of a slice from a DataFrame.\n",
      "Try using .loc[row_indexer,col_indexer] = value instead\n",
      "\n",
      "See the caveats in the documentation: https://pandas.pydata.org/pandas-docs/stable/user_guide/indexing.html#returning-a-view-versus-a-copy\n",
      "  df_hours['close_stp'] = df_hours['close_str'].apply(lambda x:  pd.Timestamp(x))\n",
      "<ipython-input-15-e9a8e093049c>:18: SettingWithCopyWarning: \n",
      "A value is trying to be set on a copy of a slice from a DataFrame.\n",
      "Try using .loc[row_indexer,col_indexer] = value instead\n",
      "\n",
      "See the caveats in the documentation: https://pandas.pydata.org/pandas-docs/stable/user_guide/indexing.html#returning-a-view-versus-a-copy\n",
      "  df_hours['diff'] = df_hours['close_stp'] - df_hours['open_stp']\n",
      "<ipython-input-15-e9a8e093049c>:19: SettingWithCopyWarning: \n",
      "A value is trying to be set on a copy of a slice from a DataFrame.\n",
      "Try using .loc[row_indexer,col_indexer] = value instead\n",
      "\n",
      "See the caveats in the documentation: https://pandas.pydata.org/pandas-docs/stable/user_guide/indexing.html#returning-a-view-versus-a-copy\n",
      "  df_hours['open_len'] = df_hours['diff'].apply(lambda x:(x.total_seconds())//3600)\n"
     ]
    }
   ],
   "source": [
    "#DEFINE SUBGROUP\n",
    "dow =  0\n",
    "cat = 'Food'\n",
    "df_hours = df_h[(df_h.dow == dow ) & (df_h.cat == cat )]\n",
    "\n",
    "\n",
    "df_hours['open_str'] = df_hours['open'].astype(str)\n",
    "df_hours['close_str'] = df_hours['close'].astype(str)\n",
    "\n",
    "\n",
    "df_hours['close_str'] = np.where(df_hours['open']> df_hours['close'] , '2021-01-02 '+df_hours['close_str'] , '2021-01-01 '+df_hours['close_str'])\n",
    "a = '2021-01-01 '\n",
    "df_hours['open_str'] = a + df_hours['open_str'] \n",
    "\n",
    "\n",
    "df_hours['open_stp'] = df_hours['open_str'].apply(lambda x:  pd.Timestamp(x))\n",
    "df_hours['close_stp'] = df_hours['close_str'].apply(lambda x:  pd.Timestamp(x))\n",
    "df_hours['diff'] = df_hours['close_stp'] - df_hours['open_stp']\n",
    "df_hours['open_len'] = df_hours['diff'].apply(lambda x:(x.total_seconds())//3600)\n",
    "\n",
    "\n",
    "\n",
    "open_len_avgstars = df_hours.groupby('open_len')['avg'].mean().reset_index(name='avgstars')\n",
    "\n"
   ]
  },
  {
   "cell_type": "code",
   "execution_count": 16,
   "metadata": {},
   "outputs": [
    {
     "data": {
      "image/png": "[encoded data removed]",
      "text/plain": [
       "<Figure size 432x288 with 1 Axes>"
      ]
     },
     "metadata": {
      "needs_background": "light"
     },
     "output_type": "display_data"
    }
   ],
   "source": [
    "index = open_len_avgstars['open_len'].tolist()\n",
    "y = open_len_avgstars['avgstars'].tolist()\n",
    "s = pd.Series(y, index=index)\n",
    "\n",
    "s.plot(kind=\"bar\", rot=90)\n",
    "plt.axhline(y=mean(open_len_avgstars['avgstars']), xmin=0, xmax=1,color='red')\n",
    "plt.xlabel(\"open_len\")\n",
    "plt.ylabel(\"avgstars\")\n",
    "plt.title(f\"avgstars in Subgroup: {str(cat)} and Dow {str(dow)}\")\n",
    "plt.subplots_adjust(left=0.15, bottom=0.50, right=0.95, top=1,wspace=0.0, hspace=0.0)\n",
    "plt.grid()\n",
    "plt.show()"
   ]
  },
  {
   "cell_type": "code",
   "execution_count": 17,
   "metadata": {},
   "outputs": [
    {
     "name": "stdout",
     "output_type": "stream",
     "text": [
      "    open_len  freq\n",
      "0        0.0    24\n",
      "1        1.0     8\n",
      "2        2.0    13\n",
      "3        3.0    26\n",
      "4        4.0    35\n",
      "5        5.0    38\n",
      "6        6.0    49\n",
      "7        7.0    48\n",
      "8        8.0    54\n",
      "9        9.0    53\n",
      "10      10.0    44\n",
      "11      11.0    49\n",
      "12      12.0    44\n",
      "13      13.0    35\n",
      "14      14.0    40\n",
      "15      15.0    36\n",
      "16      16.0    30\n",
      "17      17.0    31\n",
      "18      18.0    26\n",
      "19      19.0    20\n",
      "20      20.0    16\n",
      "21      21.0    13\n",
      "22      22.0     9\n",
      "23      23.0    12\n"
     ]
    },
    {
     "data": {
      "image/png": "[encoded data removed]",
      "text/plain": [
       "<Figure size 432x288 with 1 Axes>"
      ]
     },
     "metadata": {
      "needs_background": "light"
     },
     "output_type": "display_data"
    }
   ],
   "source": [
    "print(df_hours.groupby('open_len').size().reset_index(name='freq'))\n",
    "\n",
    "\n",
    "df_hours.groupby('open_len').size().sort_index().plot(kind='bar')\n",
    "plt.xlabel(\"open_len\")\n",
    "plt.ylabel(\"absolute frequency\")\n",
    "plt.title(f\"Absolute Frequency of open_len in Subgroup: {str(cat)} and Dow {str(dow)}\")\n",
    "\n",
    "plt.subplots_adjust(left=0.15, bottom=0.50, right=0.95, top=0.9,wspace=0.0, hspace=0.0)\n",
    "plt.grid()\n",
    "plt.show()\n"
   ]
  },
  {
   "cell_type": "code",
   "execution_count": 18,
   "metadata": {},
   "outputs": [
    {
     "name": "stderr",
     "output_type": "stream",
     "text": [
      "<ipython-input-18-414e3ab4867b>:7: SettingWithCopyWarning: \n",
      "A value is trying to be set on a copy of a slice from a DataFrame.\n",
      "Try using .loc[row_indexer,col_indexer] = value instead\n",
      "\n",
      "See the caveats in the documentation: https://pandas.pydata.org/pandas-docs/stable/user_guide/indexing.html#returning-a-view-versus-a-copy\n",
      "  df_hours['open_str'] = df_hours['open'].astype(str)\n",
      "<ipython-input-18-414e3ab4867b>:8: SettingWithCopyWarning: \n",
      "A value is trying to be set on a copy of a slice from a DataFrame.\n",
      "Try using .loc[row_indexer,col_indexer] = value instead\n",
      "\n",
      "See the caveats in the documentation: https://pandas.pydata.org/pandas-docs/stable/user_guide/indexing.html#returning-a-view-versus-a-copy\n",
      "  df_hours['close_str'] = df_hours['close'].astype(str)\n",
      "<ipython-input-18-414e3ab4867b>:11: SettingWithCopyWarning: \n",
      "A value is trying to be set on a copy of a slice from a DataFrame.\n",
      "Try using .loc[row_indexer,col_indexer] = value instead\n",
      "\n",
      "See the caveats in the documentation: https://pandas.pydata.org/pandas-docs/stable/user_guide/indexing.html#returning-a-view-versus-a-copy\n",
      "  df_hours['close_str'] = np.where(df_hours['open']> df_hours['close'] , '2021-01-02 '+df_hours['close_str'] , '2021-01-01 '+df_hours['close_str'])\n",
      "<ipython-input-18-414e3ab4867b>:13: SettingWithCopyWarning: \n",
      "A value is trying to be set on a copy of a slice from a DataFrame.\n",
      "Try using .loc[row_indexer,col_indexer] = value instead\n",
      "\n",
      "See the caveats in the documentation: https://pandas.pydata.org/pandas-docs/stable/user_guide/indexing.html#returning-a-view-versus-a-copy\n",
      "  df_hours['open_str'] = a + df_hours['open_str']\n",
      "<ipython-input-18-414e3ab4867b>:16: SettingWithCopyWarning: \n",
      "A value is trying to be set on a copy of a slice from a DataFrame.\n",
      "Try using .loc[row_indexer,col_indexer] = value instead\n",
      "\n",
      "See the caveats in the documentation: https://pandas.pydata.org/pandas-docs/stable/user_guide/indexing.html#returning-a-view-versus-a-copy\n",
      "  df_hours['open_stp'] = df_hours['open_str'].apply(lambda x:  pd.Timestamp(x))\n",
      "<ipython-input-18-414e3ab4867b>:17: SettingWithCopyWarning: \n",
      "A value is trying to be set on a copy of a slice from a DataFrame.\n",
      "Try using .loc[row_indexer,col_indexer] = value instead\n",
      "\n",
      "See the caveats in the documentation: https://pandas.pydata.org/pandas-docs/stable/user_guide/indexing.html#returning-a-view-versus-a-copy\n",
      "  df_hours['close_stp'] = df_hours['close_str'].apply(lambda x:  pd.Timestamp(x))\n",
      "<ipython-input-18-414e3ab4867b>:18: SettingWithCopyWarning: \n",
      "A value is trying to be set on a copy of a slice from a DataFrame.\n",
      "Try using .loc[row_indexer,col_indexer] = value instead\n",
      "\n",
      "See the caveats in the documentation: https://pandas.pydata.org/pandas-docs/stable/user_guide/indexing.html#returning-a-view-versus-a-copy\n",
      "  df_hours['diff'] = df_hours['close_stp'] - df_hours['open_stp']\n",
      "<ipython-input-18-414e3ab4867b>:19: SettingWithCopyWarning: \n",
      "A value is trying to be set on a copy of a slice from a DataFrame.\n",
      "Try using .loc[row_indexer,col_indexer] = value instead\n",
      "\n",
      "See the caveats in the documentation: https://pandas.pydata.org/pandas-docs/stable/user_guide/indexing.html#returning-a-view-versus-a-copy\n",
      "  df_hours['open_len'] = df_hours['diff'].apply(lambda x:(x.total_seconds())//3600)\n"
     ]
    }
   ],
   "source": [
    "#DEFINE SUBGROUP\n",
    "dow =  0\n",
    "cat = 'Nightlife'\n",
    "df_hours = df_h[(df_h.dow == dow ) & (df_h.cat == cat )]\n",
    "\n",
    "\n",
    "df_hours['open_str'] = df_hours['open'].astype(str)\n",
    "df_hours['close_str'] = df_hours['close'].astype(str)\n",
    "\n",
    "\n",
    "df_hours['close_str'] = np.where(df_hours['open']> df_hours['close'] , '2021-01-02 '+df_hours['close_str'] , '2021-01-01 '+df_hours['close_str'])\n",
    "a = '2021-01-01 '\n",
    "df_hours['open_str'] = a + df_hours['open_str'] \n",
    "\n",
    "\n",
    "df_hours['open_stp'] = df_hours['open_str'].apply(lambda x:  pd.Timestamp(x))\n",
    "df_hours['close_stp'] = df_hours['close_str'].apply(lambda x:  pd.Timestamp(x))\n",
    "df_hours['diff'] = df_hours['close_stp'] - df_hours['open_stp']\n",
    "df_hours['open_len'] = df_hours['diff'].apply(lambda x:(x.total_seconds())//3600)\n",
    "\n",
    "\n",
    "\n",
    "open_len_avgstars = df_hours.groupby('open_len')['avg'].mean().reset_index(name='avgstars')\n"
   ]
  },
  {
   "cell_type": "code",
   "execution_count": 19,
   "metadata": {},
   "outputs": [
    {
     "data": {
      "image/png": "[encoded data removed]",
      "text/plain": [
       "<Figure size 432x288 with 1 Axes>"
      ]
     },
     "metadata": {
      "needs_background": "light"
     },
     "output_type": "display_data"
    }
   ],
   "source": [
    "index = open_len_avgstars['open_len'].tolist()\n",
    "y = open_len_avgstars['avgstars'].tolist()\n",
    "s = pd.Series(y, index=index)\n",
    "\n",
    "s.plot(kind=\"bar\", rot=90)\n",
    "plt.axhline(y=mean(open_len_avgstars['avgstars']), xmin=0, xmax=1,color='red')\n",
    "plt.xlabel(\"open_len\")\n",
    "plt.ylabel(\"avgstars\")\n",
    "\n",
    "plt.subplots_adjust(left=0.15, bottom=0.50, right=0.95, top=1,wspace=0.0, hspace=0.0)\n",
    "plt.grid()\n",
    "plt.show()"
   ]
  },
  {
   "cell_type": "code",
   "execution_count": 20,
   "metadata": {},
   "outputs": [
    {
     "name": "stdout",
     "output_type": "stream",
     "text": [
      "    open_len  freq\n",
      "0        0.0    14\n",
      "1        1.0    20\n",
      "2        2.0    18\n",
      "3        3.0    19\n",
      "4        4.0    23\n",
      "5        5.0    36\n",
      "6        6.0    31\n",
      "7        7.0    34\n",
      "8        8.0    37\n",
      "9        9.0    39\n",
      "10      10.0    35\n",
      "11      11.0    32\n",
      "12      12.0    38\n",
      "13      13.0    30\n",
      "14      14.0    27\n",
      "15      15.0    34\n",
      "16      16.0    26\n",
      "17      17.0    19\n",
      "18      18.0    19\n",
      "19      19.0    14\n",
      "20      20.0    12\n",
      "21      21.0     8\n",
      "22      22.0     5\n",
      "23      23.0     5\n"
     ]
    },
    {
     "data": {
      "image/png": "[encoded data removed]",
      "text/plain": [
       "<Figure size 432x288 with 1 Axes>"
      ]
     },
     "metadata": {
      "needs_background": "light"
     },
     "output_type": "display_data"
    }
   ],
   "source": [
    "print(df_hours.groupby('open_len').size().reset_index(name='freq'))\n",
    "\n",
    "\n",
    "df_hours.groupby('open_len').size().sort_index().plot(kind='bar')\n",
    "plt.xlabel(\"open_len\")\n",
    "plt.ylabel(\"absolute frequency\")\n",
    "plt.title(f\"Absolute Frequency of open_len in Subgroup: {str(cat)} and Dow {str(dow)}\")\n",
    "\n",
    "plt.subplots_adjust(left=0.15, bottom=0.50, right=0.95, top=0.9,wspace=0.0, hspace=0.0)\n",
    "plt.grid()\n",
    "plt.show()\n"
   ]
  },
  {
   "cell_type": "code",
   "execution_count": 21,
   "metadata": {},
   "outputs": [],
   "source": [
    "#interaktiv wie sieht es aus wenn cat eingeschränkt wird, oder oder.... \n",
    "# wie sieht es je nach Cluster aus?\n",
    "#in bestimmten cluster ist eine länge der Öffnungszeit anders beliebt?"
   ]
  },
  {
   "cell_type": "markdown",
   "metadata": {},
   "source": [
    "<font size=\"5\">ATTRIBUTE-KATEGORIEN-STARS</font>"
   ]
  },
  {
   "cell_type": "code",
   "execution_count": 22,
   "metadata": {},
   "outputs": [],
   "source": [
    "host = \"141.100.70.97\"\n",
    "user = \"sync3\"\n",
    "dbname = \"sync3\"\n",
    "password = \"sync3\"\n",
    "\n",
    "connector = psycopg2.connect(host=host,user=user,dbname=dbname,password=password)\n",
    "SQL_attribute = \"\"\" SELECT a.attr, a.bid, cats.cat, b.stars\n",
    "                    FROM attribute a\n",
    "                    INNER JOIN business b\n",
    "                        ON a.bid = b.bid\n",
    "                    INNER JOIN category cat\n",
    "                        ON b.bid = cat.bid\n",
    "                    INNER JOIN categories cats\n",
    "                        ON cat.cid = cats.cid\n",
    "                        \n",
    "                \"\"\"\n",
    "#AND cats.cat in ('Restaurants','Nightlife','Food')"
   ]
  },
  {
   "cell_type": "code",
   "execution_count": 23,
   "metadata": {},
   "outputs": [],
   "source": [
    "df_attr = pd.read_sql_query(SQL_attribute, connector)"
   ]
  },
  {
   "cell_type": "code",
   "execution_count": 24,
   "metadata": {},
   "outputs": [
    {
     "name": "stdout",
     "output_type": "stream",
     "text": [
      "DATAFRAME df_attribute:\n",
      "                             attr                     bid  \\\n",
      "0                BusinessParking  Oo3X0pVhRe93-eky6MvM4w   \n",
      "1                 OutdoorSeating  Oo3X0pVhRe93-eky6MvM4w   \n",
      "2       RestaurantsGoodForGroups  Oo3X0pVhRe93-eky6MvM4w   \n",
      "3                BusinessParking  Oo3X0pVhRe93-eky6MvM4w   \n",
      "4                 OutdoorSeating  Oo3X0pVhRe93-eky6MvM4w   \n",
      "...                          ...                     ...   \n",
      "980539  RestaurantsGoodForGroups  VE8BouWadOixfUIljcdSZg   \n",
      "980540  RestaurantsGoodForGroups  VE8BouWadOixfUIljcdSZg   \n",
      "980541           BusinessParking  0UH2Swv5cV1xmyE8E8A2Kg   \n",
      "980542           BusinessParking  0UH2Swv5cV1xmyE8E8A2Kg   \n",
      "980543           BusinessParking  0UH2Swv5cV1xmyE8E8A2Kg   \n",
      "\n",
      "                           cat  stars  \n",
      "0                         Bars    3.5  \n",
      "1                         Bars    3.5  \n",
      "2                         Bars    3.5  \n",
      "3       American (Traditional)    3.5  \n",
      "4       American (Traditional)    3.5  \n",
      "...                        ...    ...  \n",
      "980539                 Seafood    4.0  \n",
      "980540             Restaurants    4.0  \n",
      "980541                Shopping    4.0  \n",
      "980542         Flowers & Gifts    4.0  \n",
      "980543                Florists    4.0  \n",
      "\n",
      "[980544 rows x 4 columns]\n"
     ]
    }
   ],
   "source": [
    "print(f\"DATAFRAME df_attribute:\\n {str(df_attr)}\")"
   ]
  },
  {
   "cell_type": "code",
   "execution_count": 25,
   "metadata": {},
   "outputs": [
    {
     "name": "stdout",
     "output_type": "stream",
     "text": [
      "ANZAHL FEHLENDER WERTE IN df_attr:\t 0\n"
     ]
    }
   ],
   "source": [
    "df_attr = df_attr.loc[:,~df_attr.columns.duplicated()]\n",
    "print(f\"ANZAHL FEHLENDER WERTE IN df_attr:\\t {str(df_attr.isnull().sum().sum())}\")\n",
    "df_attr = df_attr.dropna().reset_index(drop=True)"
   ]
  },
  {
   "cell_type": "code",
   "execution_count": 26,
   "metadata": {},
   "outputs": [
    {
     "name": "stdout",
     "output_type": "stream",
     "text": [
      "STATISTISCHE ZUSAMMENFASSUNG IN df_attr:\n",
      "                stars\n",
      "count  980544.000000\n",
      "mean        3.621853\n",
      "std         0.747548\n",
      "min         1.000000\n",
      "25%         3.000000\n",
      "50%         3.500000\n",
      "75%         4.000000\n",
      "max         5.000000\n"
     ]
    }
   ],
   "source": [
    "print(f\"STATISTISCHE ZUSAMMENFASSUNG IN df_attr:\\n {str(df_attr.describe())}\")"
   ]
  },
  {
   "cell_type": "code",
   "execution_count": 27,
   "metadata": {},
   "outputs": [],
   "source": [
    "#DEFINE SUBGROUP\n",
    "\n",
    "cat = 'Restaurants'\n",
    "df_attribute = df_attr[df_attr.cat == cat ]\n"
   ]
  },
  {
   "cell_type": "code",
   "execution_count": 28,
   "metadata": {},
   "outputs": [
    {
     "data": {
      "image/png": "[encoded data removed]",
      "text/plain": [
       "<Figure size 432x288 with 1 Axes>"
      ]
     },
     "metadata": {
      "needs_background": "light"
     },
     "output_type": "display_data"
    }
   ],
   "source": [
    "avgstars = df_attribute.groupby('attr').mean().reset_index()[\"stars\"].tolist()\n",
    "index = df_attribute.groupby('attr').mean().reset_index()[\"attr\"].tolist()\n",
    "s = pd.Series(avgstars, index=index)\n",
    "\n",
    "s.plot(kind=\"bar\", rot=90)\n",
    "\n",
    "plt.axhline(y=mean(avgstars), xmin=0, xmax=1,color='red')\n",
    "plt.xlabel(\"attribute\")\n",
    "plt.ylabel(\"avgstars\")\n",
    "plt.title(f\"avgstars in Subgroup: {str(cat)}\")\n",
    "plt.subplots_adjust(left=0.15, bottom=0.50, right=0.95, top=0.9,wspace=0.0, hspace=0.0)\n",
    "plt.grid()\n"
   ]
  },
  {
   "cell_type": "code",
   "execution_count": 29,
   "metadata": {},
   "outputs": [
    {
     "data": {
      "image/png": "[encoded data removed]",
      "text/plain": [
       "<Figure size 432x288 with 1 Axes>"
      ]
     },
     "metadata": {
      "needs_background": "light"
     },
     "output_type": "display_data"
    }
   ],
   "source": [
    "df_attribute['attr'].value_counts().sort_index().plot(kind='bar')\n",
    "plt.xlabel(\"attribute\")\n",
    "plt.ylabel(\"absolute frequency\")\n",
    "plt.title(f\"Absolute Frequency of open_len in Subgroup: {str(cat)}\")\n",
    "plt.subplots_adjust(left=0.15, bottom=0.50, right=0.95, top=0.9,wspace=0.0, hspace=0.0)\n",
    "plt.grid()\n",
    "plt.show()"
   ]
  },
  {
   "cell_type": "markdown",
   "metadata": {},
   "source": [
    "<font size='5'>ANZAHL ATTRIBUTE - AVGSTARS</font>"
   ]
  },
  {
   "cell_type": "code",
   "execution_count": 30,
   "metadata": {},
   "outputs": [],
   "source": [
    "#DEFINE SUBGROUP\n",
    "cat = 'Restaurants'\n",
    "df_attribute = df_attr[df_attr.cat == cat ]\n",
    "df_nr_attr = df_attribute.groupby('bid')['stars'].value_counts().reset_index(name='nr_attr')\n",
    "\n"
   ]
  },
  {
   "cell_type": "code",
   "execution_count": 31,
   "metadata": {},
   "outputs": [
    {
     "data": {
      "text/html": [
       "<div>\n",
       "<style scoped>\n",
       "    .dataframe tbody tr th:only-of-type {\n",
       "        vertical-align: middle;\n",
       "    }\n",
       "\n",
       "    .dataframe tbody tr th {\n",
       "        vertical-align: top;\n",
       "    }\n",
       "\n",
       "    .dataframe thead th {\n",
       "        text-align: right;\n",
       "    }\n",
       "</style>\n",
       "<table border=\"1\" class=\"dataframe\">\n",
       "  <thead>\n",
       "    <tr style=\"text-align: right;\">\n",
       "      <th></th>\n",
       "      <th>bid</th>\n",
       "      <th>stars</th>\n",
       "      <th>nr_attr</th>\n",
       "    </tr>\n",
       "  </thead>\n",
       "  <tbody>\n",
       "    <tr>\n",
       "      <th>0</th>\n",
       "      <td>--1UhMGODdWsrMastO9DZw</td>\n",
       "      <td>4.0</td>\n",
       "      <td>2</td>\n",
       "    </tr>\n",
       "    <tr>\n",
       "      <th>1</th>\n",
       "      <td>--6MefnULPED_I942VcFNA</td>\n",
       "      <td>3.0</td>\n",
       "      <td>5</td>\n",
       "    </tr>\n",
       "    <tr>\n",
       "      <th>2</th>\n",
       "      <td>--9e1ONYQuAa-CB_Rrw7Tw</td>\n",
       "      <td>4.0</td>\n",
       "      <td>3</td>\n",
       "    </tr>\n",
       "    <tr>\n",
       "      <th>3</th>\n",
       "      <td>--DaPTJW3-tB1vP-PfdTEg</td>\n",
       "      <td>4.0</td>\n",
       "      <td>3</td>\n",
       "    </tr>\n",
       "    <tr>\n",
       "      <th>4</th>\n",
       "      <td>--FBCX-N37CMYDfs790Bnw</td>\n",
       "      <td>4.0</td>\n",
       "      <td>4</td>\n",
       "    </tr>\n",
       "    <tr>\n",
       "      <th>...</th>\n",
       "      <td>...</td>\n",
       "      <td>...</td>\n",
       "      <td>...</td>\n",
       "    </tr>\n",
       "    <tr>\n",
       "      <th>54576</th>\n",
       "      <td>zzsOLFhgUw8gnjLTVVItFA</td>\n",
       "      <td>4.5</td>\n",
       "      <td>2</td>\n",
       "    </tr>\n",
       "    <tr>\n",
       "      <th>54577</th>\n",
       "      <td>zzvlwkcNR1CCqOPXwuvz2A</td>\n",
       "      <td>3.5</td>\n",
       "      <td>4</td>\n",
       "    </tr>\n",
       "    <tr>\n",
       "      <th>54578</th>\n",
       "      <td>zzwhN7x37nyjP0ZM8oiHmw</td>\n",
       "      <td>4.0</td>\n",
       "      <td>5</td>\n",
       "    </tr>\n",
       "    <tr>\n",
       "      <th>54579</th>\n",
       "      <td>zzwicjPC9g246MK2M1ZFBA</td>\n",
       "      <td>3.0</td>\n",
       "      <td>2</td>\n",
       "    </tr>\n",
       "    <tr>\n",
       "      <th>54580</th>\n",
       "      <td>zzzaIBwimxVej4tY6qFOUQ</td>\n",
       "      <td>3.5</td>\n",
       "      <td>3</td>\n",
       "    </tr>\n",
       "  </tbody>\n",
       "</table>\n",
       "<p>54581 rows × 3 columns</p>\n",
       "</div>"
      ],
      "text/plain": [
       "                          bid  stars  nr_attr\n",
       "0      --1UhMGODdWsrMastO9DZw    4.0        2\n",
       "1      --6MefnULPED_I942VcFNA    3.0        5\n",
       "2      --9e1ONYQuAa-CB_Rrw7Tw    4.0        3\n",
       "3      --DaPTJW3-tB1vP-PfdTEg    4.0        3\n",
       "4      --FBCX-N37CMYDfs790Bnw    4.0        4\n",
       "...                       ...    ...      ...\n",
       "54576  zzsOLFhgUw8gnjLTVVItFA    4.5        2\n",
       "54577  zzvlwkcNR1CCqOPXwuvz2A    3.5        4\n",
       "54578  zzwhN7x37nyjP0ZM8oiHmw    4.0        5\n",
       "54579  zzwicjPC9g246MK2M1ZFBA    3.0        2\n",
       "54580  zzzaIBwimxVej4tY6qFOUQ    3.5        3\n",
       "\n",
       "[54581 rows x 3 columns]"
      ]
     },
     "execution_count": 31,
     "metadata": {},
     "output_type": "execute_result"
    }
   ],
   "source": [
    "df_nr_attr"
   ]
  },
  {
   "cell_type": "code",
   "execution_count": 32,
   "metadata": {},
   "outputs": [
    {
     "data": {
      "image/png": "[encoded data removed]",
      "text/plain": [
       "<Figure size 432x288 with 1 Axes>"
      ]
     },
     "metadata": {
      "needs_background": "light"
     },
     "output_type": "display_data"
    }
   ],
   "source": [
    "avgstars = df_nr_attr.groupby('nr_attr').mean().reset_index()[\"stars\"].tolist()\n",
    "index = df_nr_attr.groupby('nr_attr').mean().reset_index()['nr_attr'].tolist()\n",
    "s = pd.Series(avgstars, index=index)\n",
    "\n",
    "s.plot(kind=\"bar\", rot=90)\n",
    "plt.axhline(y=mean(avgstars), xmin=0, xmax=1,color='red')\n",
    "plt.xlabel(\"number of attribute\")\n",
    "plt.ylabel(\"avgstars\")\n",
    "plt.title(f\"avgstars-nr_attr in Subgroup: {str(cat)}\")\n",
    "plt.subplots_adjust(left=0.15, bottom=0.50, right=0.95, top=1,wspace=0.0, hspace=0.0)\n",
    "plt.grid()\n",
    "plt.savefig('avgstars-nr_attr.png', dpi=1200,bbox_inches='tight')\n",
    "plt.show()\n",
    "\n",
    "\n",
    "#wie erwartet, je mehr attribute/services ein Restaurant anzubieten hat, "
   ]
  },
  {
   "cell_type": "code",
   "execution_count": 33,
   "metadata": {},
   "outputs": [
    {
     "data": {
      "image/png": "[encoded data removed]",
      "text/plain": [
       "<Figure size 432x288 with 1 Axes>"
      ]
     },
     "metadata": {
      "needs_background": "light"
     },
     "output_type": "display_data"
    }
   ],
   "source": [
    "df_nr_attr['nr_attr'].value_counts().sort_index().plot(kind='bar')\n",
    "plt.xlabel(\"number of attribute\")\n",
    "plt.ylabel(\"absolute frequency\")\n",
    "plt.title(f\"Absolute Frequency of nr_attr in Subgroup: {str(cat)}\")\n",
    "plt.subplots_adjust(left=0.15, bottom=0.50, right=0.95, top=0.9,wspace=0.0, hspace=0.0)\n",
    "plt.grid()\n",
    "plt.savefig('absfreq-nr_attr.png', dpi=1200, bbox_inches='tight')\n",
    "plt.show()\n"
   ]
  },
  {
   "cell_type": "code",
   "execution_count": 34,
   "metadata": {},
   "outputs": [],
   "source": [
    "#DEFINE SUBGROUP\n",
    "cat = 'Nightlife'\n",
    "df_attribute = df_attr[df_attr.cat == cat ]\n",
    "df_nr_attr = df_attribute.groupby('bid')['stars'].value_counts().reset_index(name='nr_attr')"
   ]
  },
  {
   "cell_type": "code",
   "execution_count": 35,
   "metadata": {},
   "outputs": [
    {
     "data": {
      "image/png": "[encoded data removed]",
      "text/plain": [
       "<Figure size 432x288 with 1 Axes>"
      ]
     },
     "metadata": {
      "needs_background": "light"
     },
     "output_type": "display_data"
    }
   ],
   "source": [
    "avgstars = df_nr_attr.groupby('nr_attr').mean().reset_index()[\"stars\"].tolist()\n",
    "index = df_nr_attr.groupby('nr_attr').mean().reset_index()['nr_attr'].tolist()\n",
    "s = pd.Series(avgstars, index=index)\n",
    "\n",
    "s.plot(kind=\"bar\", rot=90)\n",
    "plt.axhline(y=mean(avgstars), xmin=0, xmax=1,color='red')\n",
    "plt.xlabel(\"number of attribute\")\n",
    "plt.ylabel(\"avgstars\")\n",
    "plt.title(\"Average Star in each Attribute\")\n",
    "plt.title(f\"avgstars-nr_attr in Subgroup: {str(cat)}\")\n",
    "plt.subplots_adjust(left=0.15, bottom=0.50, right=0.95, top=1,wspace=0.0, hspace=0.0)\n",
    "plt.grid()\n",
    "plt.show()\n",
    "\n",
    "# in Nightlife hat die Anzahl der Attribute/services \n",
    "# nicht wirklich einen Einfluss auf die Bewertung\n",
    "# 1-7 attr. haben ähnliche Bewertungen\n",
    "# 8 hat im Vergleich zu anderen deutlich hohe Bewertung\n",
    "\n",
    "# anders als in der Kategory Restaurants ist in Nightlife die Bewertung unabhängig \n",
    "#von den Anzahl der Attributen\n",
    "#Vgl untere Häufigkeitstabelle, nur 1-7 sind vetrauenswürdig, 8 ist ne Ausnahme\n",
    "\n",
    "\n"
   ]
  },
  {
   "cell_type": "code",
   "execution_count": 36,
   "metadata": {},
   "outputs": [
    {
     "data": {
      "image/png": "[encoded data removed]",
      "text/plain": [
       "<Figure size 432x288 with 1 Axes>"
      ]
     },
     "metadata": {
      "needs_background": "light"
     },
     "output_type": "display_data"
    }
   ],
   "source": [
    "df_nr_attr['nr_attr'].value_counts().sort_index().plot(kind='bar')\n",
    "plt.xlabel(\"number of attribute\")\n",
    "plt.ylabel(\"absolute frequency\")\n",
    "plt.title(f\"Absolute Frequency of nr_attr in Subgroup: {str(cat)}\")\n",
    "plt.subplots_adjust(left=0.15, bottom=0.50, right=0.95, top=0.9,wspace=0.0, hspace=0.0)\n",
    "plt.grid()\n",
    "plt.show()"
   ]
  },
  {
   "cell_type": "code",
   "execution_count": 37,
   "metadata": {},
   "outputs": [],
   "source": [
    "#DEFINE SUBGROUP\n",
    "cat = 'Food'\n",
    "df_attribute = df_attr[df_attr.cat == cat ]\n",
    "df_nr_attr = df_attribute.groupby('bid')['stars'].value_counts().reset_index(name='nr_attr')"
   ]
  },
  {
   "cell_type": "code",
   "execution_count": 38,
   "metadata": {},
   "outputs": [
    {
     "data": {
      "image/png": "[encoded data removed]",
      "text/plain": [
       "<Figure size 432x288 with 1 Axes>"
      ]
     },
     "metadata": {
      "needs_background": "light"
     },
     "output_type": "display_data"
    }
   ],
   "source": [
    "avgstars = df_nr_attr.groupby('nr_attr').mean().reset_index()[\"stars\"].tolist()\n",
    "index = df_nr_attr.groupby('nr_attr').mean().reset_index()['nr_attr'].tolist()\n",
    "s = pd.Series(avgstars, index=index)\n",
    "\n",
    "s.plot(kind=\"bar\", rot=90)\n",
    "plt.axhline(y=mean(avgstars), xmin=0, xmax=1,color='red')\n",
    "plt.xlabel(\"number of attribute\")\n",
    "plt.ylabel(\"avgstars\")\n",
    "plt.title(\"Average Star in each Attribute\")\n",
    "plt.title(f\"avgstars-nr_attr in Subgroup: {str(cat)}\")\n",
    "plt.subplots_adjust(left=0.15, bottom=0.50, right=0.95, top=1,wspace=0.0, hspace=0.0)\n",
    "plt.grid()\n",
    "plt.show()\n",
    "\n",
    "\n",
    "#Auch hier ist eine minimale steigung der bewertung von 1-7\n",
    "#mit steigung der Anzahl der Attr festzustellen\n",
    "#jedoch ist die häugifkeit auch nur von 1-5 Vertrauenswürdig"
   ]
  },
  {
   "cell_type": "code",
   "execution_count": 39,
   "metadata": {},
   "outputs": [
    {
     "data": {
      "image/png": "[encoded data removed]",
      "text/plain": [
       "<Figure size 432x288 with 1 Axes>"
      ]
     },
     "metadata": {
      "needs_background": "light"
     },
     "output_type": "display_data"
    }
   ],
   "source": [
    "df_nr_attr['nr_attr'].value_counts().sort_index().plot(kind='bar')\n",
    "plt.xlabel(\"number of attribute\")\n",
    "plt.ylabel(\"absolute frequency\")\n",
    "plt.title(f\"Absolute Frequency of nr_attr in Subgroup: {str(cat)}\")\n",
    "plt.subplots_adjust(left=0.15, bottom=0.50, right=0.95, top=0.9,wspace=0.0, hspace=0.0)\n",
    "plt.grid()\n",
    "plt.show()"
   ]
  },
  {
   "cell_type": "code",
   "execution_count": 40,
   "metadata": {},
   "outputs": [],
   "source": [
    "# insgesamt ist für food und restaurants einen leichten Zusammenhang zwischen Steigung der \n",
    "# Anzahl der Attribute mit steigung der Bewertung festzustellen. \n",
    "# Für NIghtlife sind die Anzahl der attribute und Bewertung unabhängig.\n"
   ]
  },
  {
   "cell_type": "markdown",
   "metadata": {},
   "source": [
    "<font size ='5'>KATEGORIEN-CLUSTER-STARS-MARKTUNTERSUCHUNG</font>"
   ]
  },
  {
   "cell_type": "code",
   "execution_count": 41,
   "metadata": {},
   "outputs": [],
   "source": [
    "host = \"141.100.70.97\"\n",
    "user = \"sync3\"\n",
    "dbname = \"sync3\"\n",
    "password = \"sync3\"\n",
    "\n",
    "connector = psycopg2.connect(host=host,user=user,dbname=dbname,password=password)\n",
    "SQL_categories = \"\"\" SELECT cats.cat, b.stars, b.clusterid\n",
    "                    FROM categories cats\n",
    "                    INNER JOIN category cat\n",
    "                        ON cats.cid = cat.cid\n",
    "                    INNER JOIN business b\n",
    "                        ON b.bid = cat.bid\n",
    "                \"\"\""
   ]
  },
  {
   "cell_type": "code",
   "execution_count": 42,
   "metadata": {},
   "outputs": [],
   "source": [
    "df_categories = pd.read_sql_query(SQL_categories, connector)"
   ]
  },
  {
   "cell_type": "code",
   "execution_count": 43,
   "metadata": {},
   "outputs": [
    {
     "data": {
      "text/html": [
       "<div>\n",
       "<style scoped>\n",
       "    .dataframe tbody tr th:only-of-type {\n",
       "        vertical-align: middle;\n",
       "    }\n",
       "\n",
       "    .dataframe tbody tr th {\n",
       "        vertical-align: top;\n",
       "    }\n",
       "\n",
       "    .dataframe thead th {\n",
       "        text-align: right;\n",
       "    }\n",
       "</style>\n",
       "<table border=\"1\" class=\"dataframe\">\n",
       "  <thead>\n",
       "    <tr style=\"text-align: right;\">\n",
       "      <th></th>\n",
       "      <th>cat</th>\n",
       "      <th>stars</th>\n",
       "      <th>clusterid</th>\n",
       "    </tr>\n",
       "  </thead>\n",
       "  <tbody>\n",
       "    <tr>\n",
       "      <th>0</th>\n",
       "      <td>Bars</td>\n",
       "      <td>3.5</td>\n",
       "      <td>9</td>\n",
       "    </tr>\n",
       "    <tr>\n",
       "      <th>1</th>\n",
       "      <td>American (Traditional)</td>\n",
       "      <td>3.5</td>\n",
       "      <td>9</td>\n",
       "    </tr>\n",
       "    <tr>\n",
       "      <th>2</th>\n",
       "      <td>Nightlife</td>\n",
       "      <td>3.5</td>\n",
       "      <td>9</td>\n",
       "    </tr>\n",
       "    <tr>\n",
       "      <th>3</th>\n",
       "      <td>Restaurants</td>\n",
       "      <td>3.5</td>\n",
       "      <td>9</td>\n",
       "    </tr>\n",
       "    <tr>\n",
       "      <th>4</th>\n",
       "      <td>Party &amp; Event Planning</td>\n",
       "      <td>2.0</td>\n",
       "      <td>8</td>\n",
       "    </tr>\n",
       "    <tr>\n",
       "      <th>...</th>\n",
       "      <td>...</td>\n",
       "      <td>...</td>\n",
       "      <td>...</td>\n",
       "    </tr>\n",
       "    <tr>\n",
       "      <th>872695</th>\n",
       "      <td>Auto Parts &amp; Supplies</td>\n",
       "      <td>4.0</td>\n",
       "      <td>3</td>\n",
       "    </tr>\n",
       "    <tr>\n",
       "      <th>872696</th>\n",
       "      <td>Auto Repair</td>\n",
       "      <td>4.0</td>\n",
       "      <td>3</td>\n",
       "    </tr>\n",
       "    <tr>\n",
       "      <th>872697</th>\n",
       "      <td>Shopping</td>\n",
       "      <td>2.5</td>\n",
       "      <td>1</td>\n",
       "    </tr>\n",
       "    <tr>\n",
       "      <th>872698</th>\n",
       "      <td>Cosmetics &amp; Beauty Supply</td>\n",
       "      <td>2.5</td>\n",
       "      <td>1</td>\n",
       "    </tr>\n",
       "    <tr>\n",
       "      <th>872699</th>\n",
       "      <td>Beauty &amp; Spas</td>\n",
       "      <td>2.5</td>\n",
       "      <td>1</td>\n",
       "    </tr>\n",
       "  </tbody>\n",
       "</table>\n",
       "<p>872700 rows × 3 columns</p>\n",
       "</div>"
      ],
      "text/plain": [
       "                              cat  stars  clusterid\n",
       "0                            Bars    3.5          9\n",
       "1          American (Traditional)    3.5          9\n",
       "2                       Nightlife    3.5          9\n",
       "3                     Restaurants    3.5          9\n",
       "4          Party & Event Planning    2.0          8\n",
       "...                           ...    ...        ...\n",
       "872695      Auto Parts & Supplies    4.0          3\n",
       "872696                Auto Repair    4.0          3\n",
       "872697                   Shopping    2.5          1\n",
       "872698  Cosmetics & Beauty Supply    2.5          1\n",
       "872699              Beauty & Spas    2.5          1\n",
       "\n",
       "[872700 rows x 3 columns]"
      ]
     },
     "execution_count": 43,
     "metadata": {},
     "output_type": "execute_result"
    }
   ],
   "source": [
    "df_categories"
   ]
  },
  {
   "cell_type": "code",
   "execution_count": 44,
   "metadata": {},
   "outputs": [],
   "source": [
    "\n",
    "#regex in pandas\n",
    "\n",
    "\n",
    "df_categories['subgroup'] = np.where(df_categories['cat'].str.match('Shopping'), 'Shopping', 'others')\n",
    "df_categories['subgroup'].mask(df_categories['cat'].str.match(r'.*Beauty.*',case=False)|df_categories['cat'].str.match(r'.*Spa.*',case=False)|\n",
    "                               df_categories['cat'].str.match(r'.*Nail.*',case=False)|df_categories['cat'].str.match(r'.*Make-Up.*',case=False)\n",
    "                               |df_categories['cat'].str.match(r'.*Makeup.*',case=False)|df_categories['cat'].str.match(r'.*Make Up.*',case=False)\n",
    "                               |df_categories['cat'].str.match(r'.*Cosmetic.*',case=False), 'Beauty', inplace=True)\n",
    "df_categories['subgroup'].mask(df_categories['cat'].str.match(r'.*Restaurant.*',case=False)|df_categories['cat'].str.match(r'.*Food.*',case=False),\n",
    "                               'Food', inplace=True)\n",
    "df_categories['subgroup'].mask(df_categories['cat'].str.match(r'.*Nightlife.*',case=False)|df_categories['cat'].str.match(r'.*Club.*',case=False),\n",
    "                               'Nightlife', inplace=True)\n",
    "df_categories['subgroup'].mask(df_categories['cat'].str.match(r'.*Auto.*',case=False)|df_categories['cat'].str.match(r'.*Car.*',case=False),\n",
    "                               'Car', inplace=True)\n",
    "df_categories['subgroup'].mask(df_categories['cat'].str.match(r'.*Fitness.*',case=False)|df_categories['cat'].str.match(r'.*Sport.*',case=False)\n",
    "                               |df_categories['cat'].str.match(r'.*Yoga.*'), 'Sport', inplace=True)\n",
    "df_categories['subgroup'].mask(df_categories['cat'].str.match(r'.*Pharmacy.*',case=False)|df_categories['cat'].str.match(r'.*Drug.*',case=False)\n",
    "                               |df_categories['cat'].str.match(r'.*Chemist.*',case=False)|df_categories['cat'].str.match(r'.*Hospital.*',case=False)\n",
    "                               |df_categories['cat'].str.match(r'.*Clinic.*',case=False)|df_categories['cat'].str.match(r'.*Infirmary.*',case=False)\n",
    "                               |df_categories['cat'].str.match(r'.*Dentis.*',case=False)\n",
    "                               , 'Health Care', inplace=True)\n",
    "\n",
    "\n"
   ]
  },
  {
   "cell_type": "code",
   "execution_count": 45,
   "metadata": {},
   "outputs": [
    {
     "data": {
      "text/html": [
       "<div>\n",
       "<style scoped>\n",
       "    .dataframe tbody tr th:only-of-type {\n",
       "        vertical-align: middle;\n",
       "    }\n",
       "\n",
       "    .dataframe tbody tr th {\n",
       "        vertical-align: top;\n",
       "    }\n",
       "\n",
       "    .dataframe thead th {\n",
       "        text-align: right;\n",
       "    }\n",
       "</style>\n",
       "<table border=\"1\" class=\"dataframe\">\n",
       "  <thead>\n",
       "    <tr style=\"text-align: right;\">\n",
       "      <th></th>\n",
       "      <th>cat</th>\n",
       "      <th>stars</th>\n",
       "      <th>clusterid</th>\n",
       "      <th>subgroup</th>\n",
       "    </tr>\n",
       "  </thead>\n",
       "  <tbody>\n",
       "    <tr>\n",
       "      <th>0</th>\n",
       "      <td>Bars</td>\n",
       "      <td>3.5</td>\n",
       "      <td>9</td>\n",
       "      <td>others</td>\n",
       "    </tr>\n",
       "    <tr>\n",
       "      <th>1</th>\n",
       "      <td>American (Traditional)</td>\n",
       "      <td>3.5</td>\n",
       "      <td>9</td>\n",
       "      <td>others</td>\n",
       "    </tr>\n",
       "    <tr>\n",
       "      <th>2</th>\n",
       "      <td>Nightlife</td>\n",
       "      <td>3.5</td>\n",
       "      <td>9</td>\n",
       "      <td>Nightlife</td>\n",
       "    </tr>\n",
       "    <tr>\n",
       "      <th>3</th>\n",
       "      <td>Restaurants</td>\n",
       "      <td>3.5</td>\n",
       "      <td>9</td>\n",
       "      <td>Food</td>\n",
       "    </tr>\n",
       "    <tr>\n",
       "      <th>4</th>\n",
       "      <td>Party &amp; Event Planning</td>\n",
       "      <td>2.0</td>\n",
       "      <td>8</td>\n",
       "      <td>others</td>\n",
       "    </tr>\n",
       "    <tr>\n",
       "      <th>...</th>\n",
       "      <td>...</td>\n",
       "      <td>...</td>\n",
       "      <td>...</td>\n",
       "      <td>...</td>\n",
       "    </tr>\n",
       "    <tr>\n",
       "      <th>872695</th>\n",
       "      <td>Auto Parts &amp; Supplies</td>\n",
       "      <td>4.0</td>\n",
       "      <td>3</td>\n",
       "      <td>Car</td>\n",
       "    </tr>\n",
       "    <tr>\n",
       "      <th>872696</th>\n",
       "      <td>Auto Repair</td>\n",
       "      <td>4.0</td>\n",
       "      <td>3</td>\n",
       "      <td>Car</td>\n",
       "    </tr>\n",
       "    <tr>\n",
       "      <th>872697</th>\n",
       "      <td>Shopping</td>\n",
       "      <td>2.5</td>\n",
       "      <td>1</td>\n",
       "      <td>Shopping</td>\n",
       "    </tr>\n",
       "    <tr>\n",
       "      <th>872698</th>\n",
       "      <td>Cosmetics &amp; Beauty Supply</td>\n",
       "      <td>2.5</td>\n",
       "      <td>1</td>\n",
       "      <td>Beauty</td>\n",
       "    </tr>\n",
       "    <tr>\n",
       "      <th>872699</th>\n",
       "      <td>Beauty &amp; Spas</td>\n",
       "      <td>2.5</td>\n",
       "      <td>1</td>\n",
       "      <td>Beauty</td>\n",
       "    </tr>\n",
       "  </tbody>\n",
       "</table>\n",
       "<p>872700 rows × 4 columns</p>\n",
       "</div>"
      ],
      "text/plain": [
       "                              cat  stars  clusterid   subgroup\n",
       "0                            Bars    3.5          9     others\n",
       "1          American (Traditional)    3.5          9     others\n",
       "2                       Nightlife    3.5          9  Nightlife\n",
       "3                     Restaurants    3.5          9       Food\n",
       "4          Party & Event Planning    2.0          8     others\n",
       "...                           ...    ...        ...        ...\n",
       "872695      Auto Parts & Supplies    4.0          3        Car\n",
       "872696                Auto Repair    4.0          3        Car\n",
       "872697                   Shopping    2.5          1   Shopping\n",
       "872698  Cosmetics & Beauty Supply    2.5          1     Beauty\n",
       "872699              Beauty & Spas    2.5          1     Beauty\n",
       "\n",
       "[872700 rows x 4 columns]"
      ]
     },
     "execution_count": 45,
     "metadata": {},
     "output_type": "execute_result"
    }
   ],
   "source": [
    "df_categories"
   ]
  },
  {
   "cell_type": "code",
   "execution_count": 46,
   "metadata": {},
   "outputs": [
    {
     "name": "stdout",
     "output_type": "stream",
     "text": [
      "SubCategories in Cluster 1\n",
      "      subgroup    freq  rel_freq\n",
      "0       Beauty   11728  0.044768\n",
      "1          Car   15380  0.058708\n",
      "2         Food   23657  0.090303\n",
      "3  Health Care    5346  0.020407\n",
      "4    Nightlife    2988  0.011406\n",
      "5     Shopping   10654  0.040668\n",
      "6        Sport    4602  0.017567\n",
      "7       others  187619  0.716174\n",
      "-------------------------------------\n",
      "SubCategories in Cluster 2\n",
      "      subgroup   freq  rel_freq\n",
      "0       Beauty   2848  0.041029\n",
      "1          Car   3561  0.051300\n",
      "2         Food  10967  0.157992\n",
      "3  Health Care   1031  0.014853\n",
      "4    Nightlife   1639  0.023612\n",
      "5     Shopping   2759  0.039746\n",
      "6        Sport   1192  0.017172\n",
      "7       others  45418  0.654297\n",
      "-------------------------------------\n",
      "SubCategories in Cluster 3\n",
      "      subgroup   freq  rel_freq\n",
      "0       Beauty   1673  0.048563\n",
      "1          Car   1693  0.049144\n",
      "2         Food   6033  0.175123\n",
      "3  Health Care    408  0.011843\n",
      "4    Nightlife    784  0.022758\n",
      "5     Shopping   1715  0.049782\n",
      "6        Sport    629  0.018258\n",
      "7       others  21515  0.624528\n",
      "-------------------------------------\n",
      "SubCategories in Cluster 4\n",
      "      subgroup   freq  rel_freq\n",
      "0       Beauty    971  0.025041\n",
      "1          Car    530  0.013668\n",
      "2         Food  10154  0.261863\n",
      "3  Health Care    136  0.003507\n",
      "4    Nightlife   1146  0.029554\n",
      "5     Shopping   1145  0.029529\n",
      "6        Sport    474  0.012224\n",
      "7       others  24220  0.624613\n",
      "-------------------------------------\n",
      "SubCategories in Cluster 5\n",
      "      subgroup   freq  rel_freq\n",
      "0       Beauty   3351  0.045241\n",
      "1          Car   3778  0.051006\n",
      "2         Food   9936  0.134143\n",
      "3  Health Care   1381  0.018645\n",
      "4    Nightlife   1252  0.016903\n",
      "5     Shopping   2991  0.040381\n",
      "6        Sport   1281  0.017294\n",
      "7       others  50100  0.676387\n",
      "-------------------------------------\n",
      "SubCategories in Cluster 6\n",
      "      subgroup    freq  rel_freq\n",
      "0       Beauty    7731  0.045886\n",
      "1          Car    8749  0.051928\n",
      "2         Food   16626  0.098680\n",
      "3  Health Care    2641  0.015675\n",
      "4    Nightlife    2964  0.017592\n",
      "5     Shopping    6721  0.039891\n",
      "6        Sport    2500  0.014838\n",
      "7       others  120552  0.715510\n",
      "-------------------------------------\n",
      "SubCategories in Cluster 7\n",
      "      subgroup   freq  rel_freq\n",
      "0       Beauty    876  0.035646\n",
      "1          Car   1103  0.044883\n",
      "2         Food   3410  0.138759\n",
      "3  Health Care    329  0.013388\n",
      "4    Nightlife    555  0.022584\n",
      "5     Shopping   1067  0.043418\n",
      "6        Sport    491  0.019980\n",
      "7       others  16744  0.681343\n",
      "-------------------------------------\n",
      "SubCategories in Cluster 8\n",
      "      subgroup   freq  rel_freq\n",
      "0       Beauty   6792  0.048028\n",
      "1          Car   4838  0.034211\n",
      "2         Food  29504  0.208630\n",
      "3  Health Care   1206  0.008528\n",
      "4    Nightlife   2975  0.021037\n",
      "5     Shopping   5720  0.040447\n",
      "6        Sport   2507  0.017728\n",
      "7       others  87876  0.621392\n",
      "-------------------------------------\n",
      "SubCategories in Cluster 9\n",
      "      subgroup   freq  rel_freq\n",
      "0       Beauty   2047  0.040306\n",
      "1          Car   2438  0.048004\n",
      "2         Food   7721  0.152027\n",
      "3  Health Care    691  0.013606\n",
      "4    Nightlife   1197  0.023569\n",
      "5     Shopping   2108  0.041507\n",
      "6        Sport    832  0.016382\n",
      "7       others  33753  0.664599\n",
      "-------------------------------------\n",
      "SubCategories in Cluster 10\n",
      "      subgroup  freq  rel_freq\n",
      "0       Beauty   304  0.034739\n",
      "1          Car   420  0.047995\n",
      "2         Food  1282  0.146498\n",
      "3  Health Care   104  0.011884\n",
      "4    Nightlife   155  0.017712\n",
      "5     Shopping   380  0.043424\n",
      "6        Sport   146  0.016684\n",
      "7       others  5960  0.681065\n",
      "-------------------------------------\n"
     ]
    }
   ],
   "source": [
    "#DEFINE SUBGROUP\n",
    "sub = 2 #Food\n",
    "liste = []\n",
    "liste1 = []\n",
    "\n",
    "for i in range(1,11):\n",
    "    clusterid = i\n",
    "    df_cats_cluster = df_categories[df_categories.clusterid == clusterid]\n",
    "    df_cats_cluster_gr = df_cats_cluster.groupby('subgroup').size().reset_index(name='freq')\n",
    "    df_cats_cluster_gr['rel_freq'] = df_cats_cluster_gr['freq']/sum(df_cats_cluster_gr['freq'])\n",
    "    print(f'SubCategories in Cluster {str(i)}')\n",
    "    print(df_cats_cluster_gr)\n",
    "    liste.append(df_cats_cluster_gr.at[sub,'rel_freq'])\n",
    "    liste1.append(i)\n",
    "    print('-------------------------------------')"
   ]
  },
  {
   "cell_type": "code",
   "execution_count": 47,
   "metadata": {},
   "outputs": [
    {
     "name": "stdout",
     "output_type": "stream",
     "text": [
      "10\n",
      "[0.09030285448174247, 0.15799178851833176, 0.1751233671988389, 0.26186300804621415, 0.1341433778857837, 0.09867999335248451, 0.1387589013224822, 0.20862973596006165, 0.1520270935475614, 0.1464975431379271]\n",
      "10\n",
      "[1, 2, 3, 4, 5, 6, 7, 8, 9, 10]\n"
     ]
    }
   ],
   "source": [
    "print(len(liste))\n",
    "print(liste)\n",
    "print(len(liste1))\n",
    "print(liste1)"
   ]
  },
  {
   "cell_type": "code",
   "execution_count": 48,
   "metadata": {},
   "outputs": [
    {
     "data": {
      "image/png": "[encoded data removed]",
      "text/plain": [
       "<Figure size 432x288 with 1 Axes>"
      ]
     },
     "metadata": {
      "needs_background": "light"
     },
     "output_type": "display_data"
    }
   ],
   "source": [
    "avgstars = liste\n",
    "index = liste1\n",
    "s = pd.Series(avgstars, index=index)\n",
    "\n",
    "s.plot(kind=\"bar\", rot=90)\n",
    "plt.axhline(y=mean(avgstars), xmin=0, xmax=1,color='red')\n",
    "plt.xlabel(\"clusterid\")\n",
    "plt.ylabel(\"real_freq\")\n",
    "plt.title(f\"rel_freq of Subgroup: {str(cat)} in each cluster\")\n",
    "plt.subplots_adjust(left=0.15, bottom=0.50, right=0.95, top=1,wspace=0.0, hspace=0.0)\n",
    "plt.grid()\n",
    "plt.show()\n"
   ]
  }
 ],
 "metadata": {
  "kernelspec": {
   "display_name": "Python 3",
   "language": "python",
   "name": "python3"
  },
  "language_info": {
   "codemirror_mode": {
    "name": "ipython",
    "version": 3
   },
   "file_extension": ".py",
   "mimetype": "text/x-python",
   "name": "python",
   "nbconvert_exporter": "python",
   "pygments_lexer": "ipython3",
   "version": "3.8.2"
  }
 },
 "nbformat": 4,
 "nbformat_minor": 4
}
